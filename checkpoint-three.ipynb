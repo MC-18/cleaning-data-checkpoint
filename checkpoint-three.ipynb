{
    "cells": [
        {
            "attachments": {},
            "cell_type": "markdown",
            "metadata": {
                "azdata_cell_guid": "26037d32-2047-4157-81ef-595916bd66a0"
            },
            "source": [
                "# Checkpoint Three: Cleaning Data\n",
                "\n",
                "Now you are ready to clean your data. Before starting coding, provide the link to your dataset below.\n",
                "\n",
                "My dataset: https://www.kaggle.com/datasets/tunguz/200000-jeopardy-questions\n",
                "\n",
                "Import the necessary libraries and create your dataframe(s)."
            ]
        },
        {
            "cell_type": "code",
            "execution_count": 3,
            "metadata": {
                "azdata_cell_guid": "e8adef8e-d0f2-4640-a179-5997f11e82ca"
            },
            "outputs": [],
            "source": [
                "# Import libraries\n",
                "import pandas as pd \n",
                "import matplotlib.pyplot as plt\n",
                "import numpy as np\n",
                "\n",
                "# Create dataframe\n",
                "jeopardy_df = pd.read_csv(\"JEOPARDY_CSV.csv\")"
            ]
        },
        {
            "cell_type": "markdown",
            "metadata": {
                "azdata_cell_guid": "e172475a-c4ee-414a-8367-9965355dbba6"
            },
            "source": [
                "## Missing Data\n",
                "\n",
                "Test your dataset for missing data and handle it as needed. Make notes in the form of code comments as to your thought process."
            ]
        },
        {
            "cell_type": "code",
            "execution_count": 30,
            "metadata": {
                "azdata_cell_guid": "e1dc66ef-e471-4c27-92e7-ee878c106eba"
            },
            "outputs": [
                {
                    "data": {
                        "text/html": [
                            "<div>\n",
                            "<style scoped>\n",
                            "    .dataframe tbody tr th:only-of-type {\n",
                            "        vertical-align: middle;\n",
                            "    }\n",
                            "\n",
                            "    .dataframe tbody tr th {\n",
                            "        vertical-align: top;\n",
                            "    }\n",
                            "\n",
                            "    .dataframe thead th {\n",
                            "        text-align: right;\n",
                            "    }\n",
                            "</style>\n",
                            "<table border=\"1\" class=\"dataframe\">\n",
                            "  <thead>\n",
                            "    <tr style=\"text-align: right;\">\n",
                            "      <th></th>\n",
                            "      <th>Show Number</th>\n",
                            "      <th>Air Date</th>\n",
                            "      <th>Round</th>\n",
                            "      <th>Category</th>\n",
                            "      <th>Value</th>\n",
                            "      <th>Question</th>\n",
                            "      <th>Answer</th>\n",
                            "    </tr>\n",
                            "  </thead>\n",
                            "  <tbody>\n",
                            "    <tr>\n",
                            "      <th>12305</th>\n",
                            "      <td>5332</td>\n",
                            "      <td>2007-11-13</td>\n",
                            "      <td>Tiebreaker</td>\n",
                            "      <td>CHILD'S PLAY</td>\n",
                            "      <td>NaN</td>\n",
                            "      <td>A Longfellow poem &amp; a Lillian Hellman play abo...</td>\n",
                            "      <td>The Children's Hour</td>\n",
                            "    </tr>\n",
                            "    <tr>\n",
                            "      <th>184710</th>\n",
                            "      <td>2941</td>\n",
                            "      <td>1997-05-19</td>\n",
                            "      <td>Tiebreaker</td>\n",
                            "      <td>THE AMERICAN REVOLUTION</td>\n",
                            "      <td>NaN</td>\n",
                            "      <td>On Nov. 15, 1777 Congress adopted this constit...</td>\n",
                            "      <td>the Articles of Confederation</td>\n",
                            "    </tr>\n",
                            "    <tr>\n",
                            "      <th>198973</th>\n",
                            "      <td>4150</td>\n",
                            "      <td>2002-09-20</td>\n",
                            "      <td>Tiebreaker</td>\n",
                            "      <td>LITERARY CHARACTERS</td>\n",
                            "      <td>NaN</td>\n",
                            "      <td>Hogwarts headmaster, he's considered by many t...</td>\n",
                            "      <td>Professor Dumbledore</td>\n",
                            "    </tr>\n",
                            "  </tbody>\n",
                            "</table>\n",
                            "</div>"
                        ],
                        "text/plain": [
                            "        Show Number    Air Date       Round                 Category  Value  \\\n",
                            "12305          5332  2007-11-13  Tiebreaker             CHILD'S PLAY    NaN   \n",
                            "184710         2941  1997-05-19  Tiebreaker  THE AMERICAN REVOLUTION    NaN   \n",
                            "198973         4150  2002-09-20  Tiebreaker      LITERARY CHARACTERS    NaN   \n",
                            "\n",
                            "                                                 Question  \\\n",
                            "12305   A Longfellow poem & a Lillian Hellman play abo...   \n",
                            "184710  On Nov. 15, 1777 Congress adopted this constit...   \n",
                            "198973  Hogwarts headmaster, he's considered by many t...   \n",
                            "\n",
                            "                               Answer  \n",
                            "12305             The Children's Hour  \n",
                            "184710  the Articles of Confederation  \n",
                            "198973           Professor Dumbledore  "
                        ]
                    },
                    "execution_count": 30,
                    "metadata": {},
                    "output_type": "execute_result"
                }
            ],
            "source": [
                "# Find nulls\n",
                "jeopardy_df.isna().sum()\n",
                "\n",
                "# Missing data in Answer column is extremely minimal. I can pull these rows to see if I can find the answer online myself.\n",
                "answer_null = jeopardy_df.loc[jeopardy_df[' Answer'].isnull()]\n",
                "answer_null\n",
                "# All of the answers are actually 'Null' and python thought that meant they were missing. Too Funny!\n",
                "\n",
                "# Missing data in Value column is very large. I could consider interpolate?\n",
                "value_null = jeopardy_df.loc[jeopardy_df[' Value'].isnull()]\n",
                "value_null\n",
                "# 3,634 nulls\n",
                "# Exploring the fact that the rows returned with nulls in the Value column may correspond simply to rounds of Finaly Jeopardy. This would make a lot more sense as \n",
                "# that round does not have a predefined value. The value is set/wagered by the player themselves.\n",
                "final_jeopardy = jeopardy_df[jeopardy_df[' Round']=='Final Jeopardy!']\n",
                "final_jeopardy\n",
                "# 3,631 rows returned \n",
                "\n",
                "# Find null values in Value column that don't occur in Final Jeopardy!\n",
                "null_values_other = jeopardy_df[(jeopardy_df[' Value'].isnull()) & (jeopardy_df[' Round']!='Final Jeopardy!')]\n",
                "null_values_other\n",
                "# Other nulls are present in Round of Tiebreakers which also do not have a predefined value."
            ]
        },
        {
            "cell_type": "markdown",
            "metadata": {
                "azdata_cell_guid": "1233f543-e9a0-4f78-96f5-d7536554102e"
            },
            "source": [
                "## Irregular Data\n",
                "\n",
                "Detect outliers in your dataset and handle them as needed. Use code comments to make notes about your thought process."
            ]
        },
        {
            "cell_type": "code",
            "execution_count": null,
            "metadata": {
                "azdata_cell_guid": "efed50ae-16f0-471d-98e2-632553a74c12"
            },
            "outputs": [],
            "source": []
        },
        {
            "cell_type": "markdown",
            "metadata": {
                "azdata_cell_guid": "6f5b8ee0-bab3-44bc-958a-67d1e4c0407f"
            },
            "source": [
                "## Unnecessary Data\n",
                "\n",
                "Look for the different types of unnecessary data in your dataset and address it as needed. Make sure to use code comments to illustrate your thought process."
            ]
        },
        {
            "cell_type": "code",
            "execution_count": null,
            "metadata": {
                "azdata_cell_guid": "e788a239-2fbf-41de-9bd3-19e52e3b187c"
            },
            "outputs": [],
            "source": []
        },
        {
            "cell_type": "markdown",
            "metadata": {
                "azdata_cell_guid": "53e0cf94-c68a-4fa0-9849-9505a66bcce6"
            },
            "source": [
                "## Inconsistent Data\n",
                "\n",
                "Check for inconsistent data and address any that arises. As always, use code comments to illustrate your thought process."
            ]
        },
        {
            "cell_type": "code",
            "execution_count": null,
            "metadata": {
                "azdata_cell_guid": "e9de6624-812a-43f8-8e20-93b4a49b091f"
            },
            "outputs": [],
            "source": []
        },
        {
            "cell_type": "markdown",
            "metadata": {
                "azdata_cell_guid": "dedc0bfe-17d0-40b2-914f-2ddb54f9ce0d"
            },
            "source": [
                "## Summarize Your Results\n",
                "\n",
                "Make note of your answers to the following questions.\n",
                "\n",
                "1. Did you find all four types of dirty data in your dataset?\n",
                "2. Did the process of cleaning your data give you new insights into your dataset?\n",
                "3. Is there anything you would like to make note of when it comes to manipulating the data and making visualizations?"
            ]
        }
    ],
    "metadata": {
        "kernelspec": {
            "display_name": "Python 3",
            "language": "python",
            "name": "python3"
        },
        "language_info": {
            "codemirror_mode": {
                "name": "ipython",
                "version": 3
            },
            "file_extension": ".py",
            "mimetype": "text/x-python",
            "name": "python",
            "nbconvert_exporter": "python",
            "pygments_lexer": "ipython3",
            "version": "3.12.5"
        }
    },
    "nbformat": 4,
    "nbformat_minor": 2
}
